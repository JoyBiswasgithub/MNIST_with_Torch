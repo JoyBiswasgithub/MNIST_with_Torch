{
 "cells": [
  {
   "cell_type": "code",
   "execution_count": 2,
   "metadata": {},
   "outputs": [],
   "source": [
    "import torch\n",
    "import torch.nn as nn\n",
    "import torch.optim as optim\n",
    "import torchvision\n",
    "import torchvision.transforms as transforms\n",
    "import matplotlib.pyplot as plt\n",
    "\n"
   ]
  },
  {
   "cell_type": "code",
   "execution_count": 3,
   "metadata": {},
   "outputs": [],
   "source": [
    "# Step 1: Load the MNIST Dataset\n",
    "transform = transforms.Compose([\n",
    "    transforms.ToTensor(),  # Convert images to PyTorch tensors\n",
    "    transforms.Normalize((0.5,), (0.5,))  # Normalize the images\n",
    "])\n",
    "\n",
    "#train_dataset = torchvision.datasets.MNIST(root='./data', train=True, download=True, transform=transform)\n",
    "#test_dataset = torchvision.datasets.MNIST(root='./data', train=False, download=True, transform=transform)\n",
    "\n",
    "train_loader = torch.utils.data.DataLoader(dataset=train_dataset, batch_size=64, shuffle=True)\n",
    "test_loader = torch.utils.data.DataLoader(dataset=test_dataset, batch_size=64, shuffle=False)\n",
    "\n",
    "\n"
   ]
  },
  {
   "cell_type": "code",
   "execution_count": 5,
   "metadata": {},
   "outputs": [],
   "source": [
    "import torch.nn.functional as F "
   ]
  },
  {
   "cell_type": "code",
   "execution_count": 6,
   "metadata": {},
   "outputs": [],
   "source": [
    "# Step 2: Define the CNN Model\n",
    "class CNN(nn.Module):\n",
    "    def __init__(self):\n",
    "        super(CNN, self).__init__()\n",
    "        self.conv1 = nn.Conv2d(in_channels=1, out_channels=16, kernel_size=3, stride=1, padding=1)\n",
    "        self.conv2 = nn.Conv2d(in_channels=16, out_channels=32, kernel_size=3, stride=1, padding=1)\n",
    "        self.conv3 = nn.Conv2d(in_channels=32, out_channels=64, kernel_size=3, stride=1, padding=1)\n",
    "        self.pool = nn.MaxPool2d(kernel_size=2, stride=2, padding=0)\n",
    "        self.fc1 = nn.Linear(64 * 3 * 3, 128)  # Assuming input size 28x28, 3 pooling layers reduce it to 3x3\n",
    "        self.fc2 = nn.Linear(128, 10)\n",
    "\n",
    "    def forward(self, x):\n",
    "        x = self.pool(F.relu(self.conv1(x)))\n",
    "        x = self.pool(F.relu(self.conv2(x)))\n",
    "        x = self.pool(F.relu(self.conv3(x)))\n",
    "        x = x.view(-1, 64 * 3 * 3)  # Flatten the output from the conv layers\n",
    "        x = F.relu(self.fc1(x))\n",
    "        x = self.fc2(x)\n",
    "        return x\n",
    "\n"
   ]
  },
  {
   "cell_type": "code",
   "execution_count": 7,
   "metadata": {},
   "outputs": [],
   "source": [
    "model = CNN()\n",
    "\n"
   ]
  },
  {
   "cell_type": "code",
   "execution_count": 8,
   "metadata": {},
   "outputs": [],
   "source": [
    "# Step 3: Define Loss Function and Optimizer\n",
    "criterion = nn.CrossEntropyLoss()\n",
    "optimizer = optim.Adam(model.parameters(), lr=0.001)\n",
    "\n"
   ]
  },
  {
   "cell_type": "code",
   "execution_count": 9,
   "metadata": {},
   "outputs": [
    {
     "name": "stdout",
     "output_type": "stream",
     "text": [
      "Epoch [1/5], Step [100/938], Loss: 1.0070\n",
      "Epoch [1/5], Step [200/938], Loss: 0.2277\n",
      "Epoch [1/5], Step [300/938], Loss: 0.1529\n",
      "Epoch [1/5], Step [400/938], Loss: 0.1138\n",
      "Epoch [1/5], Step [500/938], Loss: 0.1133\n",
      "Epoch [1/5], Step [600/938], Loss: 0.0998\n",
      "Epoch [1/5], Step [700/938], Loss: 0.0779\n",
      "Epoch [1/5], Step [800/938], Loss: 0.0866\n",
      "Epoch [1/5], Step [900/938], Loss: 0.0798\n",
      "Epoch [2/5], Step [100/938], Loss: 0.0604\n",
      "Epoch [2/5], Step [200/938], Loss: 0.0627\n",
      "Epoch [2/5], Step [300/938], Loss: 0.0576\n",
      "Epoch [2/5], Step [400/938], Loss: 0.0521\n",
      "Epoch [2/5], Step [500/938], Loss: 0.0633\n",
      "Epoch [2/5], Step [600/938], Loss: 0.0466\n",
      "Epoch [2/5], Step [700/938], Loss: 0.0479\n",
      "Epoch [2/5], Step [800/938], Loss: 0.0486\n",
      "Epoch [2/5], Step [900/938], Loss: 0.0474\n",
      "Epoch [3/5], Step [100/938], Loss: 0.0444\n",
      "Epoch [3/5], Step [200/938], Loss: 0.0311\n",
      "Epoch [3/5], Step [300/938], Loss: 0.0439\n",
      "Epoch [3/5], Step [400/938], Loss: 0.0380\n",
      "Epoch [3/5], Step [500/938], Loss: 0.0372\n",
      "Epoch [3/5], Step [600/938], Loss: 0.0374\n",
      "Epoch [3/5], Step [700/938], Loss: 0.0319\n",
      "Epoch [3/5], Step [800/938], Loss: 0.0395\n",
      "Epoch [3/5], Step [900/938], Loss: 0.0422\n",
      "Epoch [4/5], Step [100/938], Loss: 0.0265\n",
      "Epoch [4/5], Step [200/938], Loss: 0.0295\n",
      "Epoch [4/5], Step [300/938], Loss: 0.0347\n",
      "Epoch [4/5], Step [400/938], Loss: 0.0285\n",
      "Epoch [4/5], Step [500/938], Loss: 0.0289\n",
      "Epoch [4/5], Step [600/938], Loss: 0.0251\n",
      "Epoch [4/5], Step [700/938], Loss: 0.0254\n",
      "Epoch [4/5], Step [800/938], Loss: 0.0374\n",
      "Epoch [4/5], Step [900/938], Loss: 0.0278\n",
      "Epoch [5/5], Step [100/938], Loss: 0.0281\n",
      "Epoch [5/5], Step [200/938], Loss: 0.0210\n",
      "Epoch [5/5], Step [300/938], Loss: 0.0232\n",
      "Epoch [5/5], Step [400/938], Loss: 0.0222\n",
      "Epoch [5/5], Step [500/938], Loss: 0.0166\n",
      "Epoch [5/5], Step [600/938], Loss: 0.0191\n",
      "Epoch [5/5], Step [700/938], Loss: 0.0233\n",
      "Epoch [5/5], Step [800/938], Loss: 0.0266\n",
      "Epoch [5/5], Step [900/938], Loss: 0.0319\n"
     ]
    }
   ],
   "source": [
    "# Step 4: Train the Model\n",
    "num_epochs = 5\n",
    "for epoch in range(num_epochs):\n",
    "    model.train()\n",
    "    running_loss = 0.0\n",
    "    for i, (images, labels) in enumerate(train_loader):\n",
    "        # Zero the parameter gradients\n",
    "        optimizer.zero_grad()\n",
    "\n",
    "        # Forward pass\n",
    "        outputs = model(images)\n",
    "        loss = criterion(outputs, labels)\n",
    "\n",
    "        # Backward pass and optimize\n",
    "        loss.backward()\n",
    "        optimizer.step()\n",
    "\n",
    "        running_loss += loss.item()\n",
    "        if (i+1) % 100 == 0:\n",
    "            print(f'Epoch [{epoch+1}/{num_epochs}], Step [{i+1}/{len(train_loader)}], Loss: {running_loss/100:.4f}')\n",
    "            running_loss = 0.0\n",
    "\n"
   ]
  },
  {
   "cell_type": "code",
   "execution_count": 10,
   "metadata": {},
   "outputs": [
    {
     "name": "stdout",
     "output_type": "stream",
     "text": [
      "Accuracy of the model on the 10,000 test images: 99.14%\n"
     ]
    }
   ],
   "source": [
    "# Step 5: Evaluate the Model\n",
    "model.eval()\n",
    "with torch.no_grad():\n",
    "    correct = 0\n",
    "    total = 0\n",
    "    for images, labels in test_loader:\n",
    "        outputs = model(images)\n",
    "        _, predicted = torch.max(outputs.data, 1)\n",
    "        total += labels.size(0)\n",
    "        correct += (predicted == labels).sum().item()\n",
    "\n",
    "    print(f'Accuracy of the model on the 10,000 test images: {100 * correct / total:.2f}%')\n",
    "\n"
   ]
  },
  {
   "cell_type": "code",
   "execution_count": 11,
   "metadata": {},
   "outputs": [
    {
     "name": "stderr",
     "output_type": "stream",
     "text": [
      "C:\\Users\\Joy Biswas\\AppData\\Local\\Temp\\ipykernel_18744\\2717588634.py:11: UserWarning: The figure layout has changed to tight\n",
      "  plt.tight_layout()\n"
     ]
    },
    {
     "data": {
      "image/png": "[encoded data removed]",
      "text/plain": [
       "<Figure size 640x480 with 6 Axes>"
      ]
     },
     "metadata": {},
     "output_type": "display_data"
    }
   ],
   "source": [
    "# Visualize some test results\n",
    "examples = enumerate(test_loader)\n",
    "batch_idx, (example_data, example_targets) = next(examples)\n",
    "\n",
    "with torch.no_grad():\n",
    "    output = model(example_data)\n",
    "\n",
    "fig = plt.figure()\n",
    "for i in range(6):\n",
    "    plt.subplot(2,3,i+1)\n",
    "    plt.tight_layout()\n",
    "    plt.imshow(example_data[i][0], cmap='gray', interpolation='none')\n",
    "    plt.title(f'Prediction: {output.data.max(1, keepdim=True)[1][i].item()}')\n",
    "    plt.xticks([])\n",
    "    plt.yticks([])\n",
    "plt.show()"
   ]
  },
  {
   "cell_type": "code",
   "execution_count": null,
   "metadata": {},
   "outputs": [],
   "source": []
  }
 ],
 "metadata": {
  "kernelspec": {
   "display_name": "tensorflowGPU",
   "language": "python",
   "name": "python3"
  },
  "language_info": {
   "codemirror_mode": {
    "name": "ipython",
    "version": 3
   },
   "file_extension": ".py",
   "mimetype": "text/x-python",
   "name": "python",
   "nbconvert_exporter": "python",
   "pygments_lexer": "ipython3",
   "version": "3.9.17"
  }
 },
 "nbformat": 4,
 "nbformat_minor": 2
}
